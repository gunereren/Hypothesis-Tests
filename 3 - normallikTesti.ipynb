{
 "cells": [
  {
   "cell_type": "code",
   "execution_count": 1,
   "metadata": {},
   "outputs": [],
   "source": [
    "import pandas as pd\n",
    "import numpy as np\n",
    "import seaborn as sns\n",
    "import matplotlib.pyplot as plt\n",
    "%matplotlib inline\n",
    "import warnings\n",
    "warnings.filterwarnings(\"ignore\")"
   ]
  },
  {
   "cell_type": "code",
   "execution_count": 2,
   "metadata": {},
   "outputs": [
    {
     "data": {
      "text/html": [
       "<div>\n",
       "<style scoped>\n",
       "    .dataframe tbody tr th:only-of-type {\n",
       "        vertical-align: middle;\n",
       "    }\n",
       "\n",
       "    .dataframe tbody tr th {\n",
       "        vertical-align: top;\n",
       "    }\n",
       "\n",
       "    .dataframe thead th {\n",
       "        text-align: right;\n",
       "    }\n",
       "</style>\n",
       "<table border=\"1\" class=\"dataframe\">\n",
       "  <thead>\n",
       "    <tr style=\"text-align: right;\">\n",
       "      <th></th>\n",
       "      <th>sepal_length</th>\n",
       "      <th>sepal_width</th>\n",
       "      <th>petal_length</th>\n",
       "      <th>petal_width</th>\n",
       "      <th>species</th>\n",
       "    </tr>\n",
       "  </thead>\n",
       "  <tbody>\n",
       "    <tr>\n",
       "      <th>0</th>\n",
       "      <td>5.1</td>\n",
       "      <td>3.5</td>\n",
       "      <td>1.4</td>\n",
       "      <td>0.2</td>\n",
       "      <td>setosa</td>\n",
       "    </tr>\n",
       "    <tr>\n",
       "      <th>1</th>\n",
       "      <td>4.9</td>\n",
       "      <td>3.0</td>\n",
       "      <td>1.4</td>\n",
       "      <td>0.2</td>\n",
       "      <td>setosa</td>\n",
       "    </tr>\n",
       "    <tr>\n",
       "      <th>2</th>\n",
       "      <td>4.7</td>\n",
       "      <td>3.2</td>\n",
       "      <td>1.3</td>\n",
       "      <td>0.2</td>\n",
       "      <td>setosa</td>\n",
       "    </tr>\n",
       "    <tr>\n",
       "      <th>3</th>\n",
       "      <td>4.6</td>\n",
       "      <td>3.1</td>\n",
       "      <td>1.5</td>\n",
       "      <td>0.2</td>\n",
       "      <td>setosa</td>\n",
       "    </tr>\n",
       "    <tr>\n",
       "      <th>4</th>\n",
       "      <td>5.0</td>\n",
       "      <td>3.6</td>\n",
       "      <td>1.4</td>\n",
       "      <td>0.2</td>\n",
       "      <td>setosa</td>\n",
       "    </tr>\n",
       "  </tbody>\n",
       "</table>\n",
       "</div>"
      ],
      "text/plain": [
       "   sepal_length  sepal_width  petal_length  petal_width species\n",
       "0           5.1          3.5           1.4          0.2  setosa\n",
       "1           4.9          3.0           1.4          0.2  setosa\n",
       "2           4.7          3.2           1.3          0.2  setosa\n",
       "3           4.6          3.1           1.5          0.2  setosa\n",
       "4           5.0          3.6           1.4          0.2  setosa"
      ]
     },
     "execution_count": 2,
     "metadata": {},
     "output_type": "execute_result"
    }
   ],
   "source": [
    "iris = sns.load_dataset(\"iris\")\n",
    "df = iris.copy()\n",
    "df.head()"
   ]
  },
  {
   "cell_type": "code",
   "execution_count": 5,
   "metadata": {},
   "outputs": [
    {
     "data": {
      "text/html": [
       "<div>\n",
       "<style scoped>\n",
       "    .dataframe tbody tr th:only-of-type {\n",
       "        vertical-align: middle;\n",
       "    }\n",
       "\n",
       "    .dataframe tbody tr th {\n",
       "        vertical-align: top;\n",
       "    }\n",
       "\n",
       "    .dataframe thead th {\n",
       "        text-align: right;\n",
       "    }\n",
       "</style>\n",
       "<table border=\"1\" class=\"dataframe\">\n",
       "  <thead>\n",
       "    <tr style=\"text-align: right;\">\n",
       "      <th></th>\n",
       "      <th>sepal_length</th>\n",
       "      <th>sepal_width</th>\n",
       "      <th>petal_length</th>\n",
       "      <th>petal_width</th>\n",
       "    </tr>\n",
       "  </thead>\n",
       "  <tbody>\n",
       "    <tr>\n",
       "      <th>0</th>\n",
       "      <td>5.1</td>\n",
       "      <td>3.5</td>\n",
       "      <td>1.4</td>\n",
       "      <td>0.2</td>\n",
       "    </tr>\n",
       "    <tr>\n",
       "      <th>1</th>\n",
       "      <td>4.9</td>\n",
       "      <td>3.0</td>\n",
       "      <td>1.4</td>\n",
       "      <td>0.2</td>\n",
       "    </tr>\n",
       "    <tr>\n",
       "      <th>2</th>\n",
       "      <td>4.7</td>\n",
       "      <td>3.2</td>\n",
       "      <td>1.3</td>\n",
       "      <td>0.2</td>\n",
       "    </tr>\n",
       "    <tr>\n",
       "      <th>3</th>\n",
       "      <td>4.6</td>\n",
       "      <td>3.1</td>\n",
       "      <td>1.5</td>\n",
       "      <td>0.2</td>\n",
       "    </tr>\n",
       "    <tr>\n",
       "      <th>4</th>\n",
       "      <td>5.0</td>\n",
       "      <td>3.6</td>\n",
       "      <td>1.4</td>\n",
       "      <td>0.2</td>\n",
       "    </tr>\n",
       "    <tr>\n",
       "      <th>...</th>\n",
       "      <td>...</td>\n",
       "      <td>...</td>\n",
       "      <td>...</td>\n",
       "      <td>...</td>\n",
       "    </tr>\n",
       "    <tr>\n",
       "      <th>145</th>\n",
       "      <td>6.7</td>\n",
       "      <td>3.0</td>\n",
       "      <td>5.2</td>\n",
       "      <td>2.3</td>\n",
       "    </tr>\n",
       "    <tr>\n",
       "      <th>146</th>\n",
       "      <td>6.3</td>\n",
       "      <td>2.5</td>\n",
       "      <td>5.0</td>\n",
       "      <td>1.9</td>\n",
       "    </tr>\n",
       "    <tr>\n",
       "      <th>147</th>\n",
       "      <td>6.5</td>\n",
       "      <td>3.0</td>\n",
       "      <td>5.2</td>\n",
       "      <td>2.0</td>\n",
       "    </tr>\n",
       "    <tr>\n",
       "      <th>148</th>\n",
       "      <td>6.2</td>\n",
       "      <td>3.4</td>\n",
       "      <td>5.4</td>\n",
       "      <td>2.3</td>\n",
       "    </tr>\n",
       "    <tr>\n",
       "      <th>149</th>\n",
       "      <td>5.9</td>\n",
       "      <td>3.0</td>\n",
       "      <td>5.1</td>\n",
       "      <td>1.8</td>\n",
       "    </tr>\n",
       "  </tbody>\n",
       "</table>\n",
       "<p>150 rows × 4 columns</p>\n",
       "</div>"
      ],
      "text/plain": [
       "     sepal_length  sepal_width  petal_length  petal_width\n",
       "0             5.1          3.5           1.4          0.2\n",
       "1             4.9          3.0           1.4          0.2\n",
       "2             4.7          3.2           1.3          0.2\n",
       "3             4.6          3.1           1.5          0.2\n",
       "4             5.0          3.6           1.4          0.2\n",
       "..            ...          ...           ...          ...\n",
       "145           6.7          3.0           5.2          2.3\n",
       "146           6.3          2.5           5.0          1.9\n",
       "147           6.5          3.0           5.2          2.0\n",
       "148           6.2          3.4           5.4          2.3\n",
       "149           5.9          3.0           5.1          1.8\n",
       "\n",
       "[150 rows x 4 columns]"
      ]
     },
     "execution_count": 5,
     "metadata": {},
     "output_type": "execute_result"
    }
   ],
   "source": [
    "numeric_col = df.drop(columns=[\"species\"])\n",
    "numeric_col"
   ]
  },
  {
   "cell_type": "markdown",
   "metadata": {},
   "source": [
    "# Dağılım Grafikleri"
   ]
  },
  {
   "cell_type": "code",
   "execution_count": 8,
   "metadata": {},
   "outputs": [
    {
     "data": {
      "image/png": "[encoded data removed]",
      "text/plain": [
       "<Figure size 500x500 with 1 Axes>"
      ]
     },
     "metadata": {},
     "output_type": "display_data"
    },
    {
     "data": {
      "image/png": "[encoded data removed]",
      "text/plain": [
       "<Figure size 500x500 with 1 Axes>"
      ]
     },
     "metadata": {},
     "output_type": "display_data"
    },
    {
     "data": {
      "image/png": "[encoded data removed]",
      "text/plain": [
       "<Figure size 500x500 with 1 Axes>"
      ]
     },
     "metadata": {},
     "output_type": "display_data"
    },
    {
     "data": {
      "image/png": "[encoded data removed]",
      "text/plain": [
       "<Figure size 500x500 with 1 Axes>"
      ]
     },
     "metadata": {},
     "output_type": "display_data"
    }
   ],
   "source": [
    "for col in numeric_col.columns:\n",
    "    sns.displot(df[col]);\n",
    "plt.show()"
   ]
  },
  {
   "cell_type": "markdown",
   "metadata": {},
   "source": [
    "# Shapiro-Wilk Testi"
   ]
  },
  {
   "cell_type": "code",
   "execution_count": 22,
   "metadata": {},
   "outputs": [],
   "source": [
    "from scipy.stats import shapiro, normaltest, anderson"
   ]
  },
  {
   "cell_type": "code",
   "execution_count": 27,
   "metadata": {},
   "outputs": [
    {
     "name": "stdout",
     "output_type": "stream",
     "text": [
      "sepal_length için normallik testi p_value: 0.0101811615 değerine bakıldığında verilerin NORMAL DAĞILMADIĞI sonucuna varabiliriz.\n",
      "\n",
      "sepal_width için normallik testi p_value: 0.1011542692 değerine bakıldığında verilerin NORMAL DAĞILDIĞI sonucuna varabiliriz.\n",
      "\n",
      "petal_length için normallik testi p_value: 7e-10 değerine bakıldığında verilerin NORMAL DAĞILMADIĞI sonucuna varabiliriz.\n",
      "\n",
      "petal_width için normallik testi p_value: 1.68e-08 değerine bakıldığında verilerin NORMAL DAĞILMADIĞI sonucuna varabiliriz.\n",
      "\n"
     ]
    }
   ],
   "source": [
    "for col in numeric_col.columns:\n",
    "    data = numeric_col[col]\n",
    "\n",
    "    stats, p_value = shapiro(df[col])\n",
    "\n",
    "    alpha = 0.05\n",
    "    if p_value > alpha:\n",
    "        print(f\"{col} için normallik testi p_value: {round(p_value, 10)} değerine bakıldığında verilerin NORMAL DAĞILDIĞI sonucuna varabiliriz.\\n\")\n",
    "    else:\n",
    "        print(f\"{col} için normallik testi p_value: {round(p_value, 10)} değerine bakıldığında verilerin NORMAL DAĞILMADIĞI sonucuna varabiliriz.\\n\")"
   ]
  },
  {
   "cell_type": "markdown",
   "metadata": {},
   "source": [
    "# D'Agostino's K^2 Normality Test"
   ]
  },
  {
   "cell_type": "code",
   "execution_count": 28,
   "metadata": {},
   "outputs": [
    {
     "name": "stdout",
     "output_type": "stream",
     "text": [
      "sepal_length için normallik testi p_value: 0.0568242494 değerine bakıldığında verilerin NORMAL DAĞILDIĞI sonucuna varabiliriz.\n",
      "\n",
      "sepal_width için normallik testi p_value: 0.2097338099 değerine bakıldığında verilerin NORMAL DAĞILDIĞI sonucuna varabiliriz.\n",
      "\n",
      "petal_length için normallik testi p_value: 0.0 değerine bakıldığında verilerin NORMAL DAĞILMADIĞI sonucuna varabiliriz.\n",
      "\n",
      "petal_width için normallik testi p_value: 0.0 değerine bakıldığında verilerin NORMAL DAĞILMADIĞI sonucuna varabiliriz.\n",
      "\n"
     ]
    }
   ],
   "source": [
    "for col in numeric_col.columns:\n",
    "    data = numeric_col[col]\n",
    "\n",
    "    stats, p_value = normaltest(df[col])\n",
    "\n",
    "    alpha = 0.05\n",
    "    if p_value > alpha:\n",
    "        print(f\"{col} için normallik testi p_value: {round(p_value, 10)} değerine bakıldığında verilerin NORMAL DAĞILDIĞI sonucuna varabiliriz.\\n\")\n",
    "    else:\n",
    "        print(f\"{col} için normallik testi p_value: {round(p_value, 10)} değerine bakıldığında verilerin NORMAL DAĞILMADIĞI sonucuna varabiliriz.\\n\")"
   ]
  },
  {
   "cell_type": "markdown",
   "metadata": {},
   "source": [
    "# Anderson Darling Testi"
   ]
  },
  {
   "cell_type": "code",
   "execution_count": 35,
   "metadata": {},
   "outputs": [
    {
     "name": "stdout",
     "output_type": "stream",
     "text": [
      "\n",
      "sepal_length için Statistic: 0.8891994860134105\n",
      "15.000: 0.562, data does not look normal (reject H0)\n",
      "10.000: 0.640, data does not look normal (reject H0)\n",
      "5.000: 0.767, data does not look normal (reject H0)\n",
      "2.500: 0.895, data looks normal (fail to reject H0)\n",
      "1.000: 1.065, data looks normal (fail to reject H0)\n",
      "\n",
      "sepal_width için Statistic: 0.9079550471145126\n",
      "15.000: 0.562, data does not look normal (reject H0)\n",
      "10.000: 0.640, data does not look normal (reject H0)\n",
      "5.000: 0.767, data does not look normal (reject H0)\n",
      "2.500: 0.895, data does not look normal (reject H0)\n",
      "1.000: 1.065, data looks normal (fail to reject H0)\n",
      "\n",
      "petal_length için Statistic: 7.6785455198266845\n",
      "15.000: 0.562, data does not look normal (reject H0)\n",
      "10.000: 0.640, data does not look normal (reject H0)\n",
      "5.000: 0.767, data does not look normal (reject H0)\n",
      "2.500: 0.895, data does not look normal (reject H0)\n",
      "1.000: 1.065, data does not look normal (reject H0)\n",
      "\n",
      "petal_width için Statistic: 5.1056620354169695\n",
      "15.000: 0.562, data does not look normal (reject H0)\n",
      "10.000: 0.640, data does not look normal (reject H0)\n",
      "5.000: 0.767, data does not look normal (reject H0)\n",
      "2.500: 0.895, data does not look normal (reject H0)\n",
      "1.000: 1.065, data does not look normal (reject H0)\n"
     ]
    }
   ],
   "source": [
    "for col in numeric_col.columns:\n",
    "    data = df[col]\n",
    "    result = anderson(data)\n",
    "\n",
    "    print(f\"\\n{col} için Statistic: {result.statistic}\")\n",
    "    p = 0\n",
    "    for i in range(len(result.critical_values)):\n",
    "        sl, cv = result.significance_level[i], result.critical_values[i]\n",
    "        if result.statistic < result.critical_values[i]:\n",
    "            print('%.3f: %.3f, data looks normal (fail to reject H0)' % (sl, cv))\n",
    "        else:\n",
    "            print('%.3f: %.3f, data does not look normal (reject H0)' % (sl, cv))"
   ]
  }
 ],
 "metadata": {
  "kernelspec": {
   "display_name": "veriBilimi",
   "language": "python",
   "name": "python3"
  },
  "language_info": {
   "codemirror_mode": {
    "name": "ipython",
    "version": 3
   },
   "file_extension": ".py",
   "mimetype": "text/x-python",
   "name": "python",
   "nbconvert_exporter": "python",
   "pygments_lexer": "ipython3",
   "version": "3.11.9"
  }
 },
 "nbformat": 4,
 "nbformat_minor": 2
}
